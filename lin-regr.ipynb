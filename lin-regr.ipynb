{
 "cells": [
  {
   "cell_type": "markdown",
   "metadata": {},
   "source": [
    "# Import"
   ]
  },
  {
   "cell_type": "code",
   "execution_count": null,
   "metadata": {},
   "outputs": [],
   "source": [
    "import pandas as pd\n",
    "import numpy as np\n",
    "import matplotlib.pyplot as plt\n",
    "from sklearn.model_selection import TimeSeriesSplit\n",
    "from sklearn.multioutput import MultiOutputRegressor\n",
    "from sklearn.linear_model import LinearRegression\n",
    "from sklearn.metrics import mean_squared_error"
   ]
  },
  {
   "cell_type": "markdown",
   "metadata": {},
   "source": [
    "# Data import"
   ]
  },
  {
   "cell_type": "code",
   "execution_count": null,
   "metadata": {},
   "outputs": [],
   "source": [
    "df = pd.read_csv('./data/model_data.csv')\n",
    "\n",
    "# Convert date column to datetime and sort chronologically\n",
    "df['date'] = pd.to_datetime(df['date'])\n",
    "df = df.sort_values(by='date').reset_index(drop=True)\n",
    "\n",
    "df"
   ]
  },
  {
   "cell_type": "markdown",
   "metadata": {},
   "source": [
    "## Data splitting"
   ]
  },
  {
   "cell_type": "code",
   "execution_count": null,
   "metadata": {},
   "outputs": [],
   "source": [
    "# Define input and output features.\n",
    "# Note: 'date' is not used directly in the regression model.\n",
    "input_features = [\n",
    "    'precipitation + irrigation (mm)',\n",
    "    'potential evapotranspiration (mm)',\n",
    "    # 'year',\n",
    "    # 'month',\n",
    "    # 'day',\n",
    "    # 'day_of_week',\n",
    "    # 'day_of_year',\n",
    "    'precip_pet_diff',\n",
    "    'precip_7d_avg',\n",
    "    'pet_7d_avg',\n",
    "    # 'precip_7d_sum',\n",
    "    # 'pet_7d_sum'\n",
    "]\n",
    "\n",
    "output_features = [\n",
    "    'depth 10cm',\n",
    "    'depth 30cm',\n",
    "    'depth 60cm',\n",
    "    'depth 90cm',\n",
    "    'actual evapotranspiration (mm)',\n",
    "    'groundwater recharge (mm)'\n",
    "]\n",
    "\n",
    "# Perform a time-based train/test split (80% train, 20% test)\n",
    "split_index = int(len(df) * 0.8)\n",
    "train = df.iloc[:split_index]\n",
    "test = df.iloc[split_index:]\n",
    "\n",
    "X_train = train[input_features]\n",
    "y_train = train[output_features]\n",
    "X_test = test[input_features]\n",
    "y_test = test[output_features]\n",
    "y = df[output_features]"
   ]
  },
  {
   "cell_type": "code",
   "execution_count": null,
   "metadata": {},
   "outputs": [],
   "source": [
    "y.describe()"
   ]
  },
  {
   "cell_type": "markdown",
   "metadata": {},
   "source": [
    "## Baseline results"
   ]
  },
  {
   "cell_type": "code",
   "execution_count": null,
   "metadata": {},
   "outputs": [],
   "source": [
    "# baseline\n",
    "y_pred_baseline = np.full(y_test.shape, y_train.mean())\n",
    "\n",
    "baseline_mse = mean_squared_error(y_test, y_pred_baseline)\n",
    "print(f'Baseline MSE: {baseline_mse:.2f}')"
   ]
  },
  {
   "cell_type": "markdown",
   "metadata": {},
   "source": [
    "# Models"
   ]
  },
  {
   "cell_type": "markdown",
   "metadata": {},
   "source": [
    "## Multi-output linear regression"
   ]
  },
  {
   "cell_type": "code",
   "execution_count": null,
   "metadata": {},
   "outputs": [],
   "source": [
    "# Train a multi-output linear regression model\n",
    "model = MultiOutputRegressor(LinearRegression())\n",
    "model.fit(X_train, y_train)\n",
    "\n",
    "# Predict on the test set\n",
    "y_pred = model.predict(X_test)\n",
    "\n",
    "# Evaluate the model using Mean Squared Error (MSE)\n",
    "mse_per_target = mean_squared_error(y_test, y_pred, multioutput='raw_values')\n",
    "overall_mse = mean_squared_error(y_test, y_pred)\n",
    "\n",
    "print(\"Mean Squared Error for each target variable:\")\n",
    "for col, mse in zip(output_features, mse_per_target):\n",
    "    print(f\"  {col}: {mse:.2f}\")\n",
    "print(f\"\\nOverall Mean Squared Error: {overall_mse:.2f}\")\n"
   ]
  },
  {
   "cell_type": "code",
   "execution_count": null,
   "metadata": {},
   "outputs": [],
   "source": [
    "# Plot the actual vs. predicted values for each target variable\n",
    "fig, axes = plt.subplots(2, 3, figsize=(15, 10))\n",
    "axes = axes.flatten()\n",
    "\n",
    "for i, (col, ax) in enumerate(zip(output_features, axes)):\n",
    "    ax.plot(test['date'], y_test[col], label='Actual', color='blue')\n",
    "    ax.plot(test['date'], y_pred[:, i], label='Predicted', color='red')\n",
    "    ax.set_title(col)\n",
    "    ax.legend()\n",
    "\n",
    "plt.tight_layout()\n",
    "plt.show()"
   ]
  },
  {
   "cell_type": "markdown",
   "metadata": {},
   "source": [
    "# Cross-validation - (todo)"
   ]
  },
  {
   "cell_type": "code",
   "execution_count": null,
   "metadata": {},
   "outputs": [],
   "source": [
    "# df = pd.read_csv('./data/model_data.csv')\n",
    "\n",
    "# # Convert date column to datetime and sort chronologically\n",
    "# df['date'] = pd.to_datetime(df['date'])\n",
    "# df = df.sort_values(by='date').reset_index(drop=True)\n",
    "\n",
    "# # Define input and output features.\n",
    "# # 'date' is only used for sorting and plotting.\n",
    "# input_features = [\n",
    "#     'precipitation + irrigation (mm)',\n",
    "#     'potential evapotranspiration (mm)',\n",
    "#     # 'year',\n",
    "#     # 'month',\n",
    "#     # 'day',\n",
    "#     # 'day_of_week',\n",
    "#     # 'day_of_year',\n",
    "#     'precip_pet_diff',\n",
    "#     'precip_7d_avg',\n",
    "#     'pet_7d_avg',\n",
    "#     # 'precip_7d_sum',\n",
    "#     # 'pet_7d_sum'\n",
    "# ]\n",
    "\n",
    "# output_features = [\n",
    "#     'depth 10cm',\n",
    "#     'depth 30cm',\n",
    "#     'depth 60cm',\n",
    "#     'depth 90cm',\n",
    "#     'actual evapotranspiration (mm)',\n",
    "#     'groundwater recharge (mm)'\n",
    "# ]\n",
    "\n",
    "# # Prepare the input (X) and output (y) DataFrames\n",
    "# X = df[input_features]\n",
    "# y = df[output_features]\n",
    "\n",
    "# # Time Series Cross-Validation using TimeSeriesSplit\n",
    "# tscv = TimeSeriesSplit(n_splits=5)\n",
    "# cv_mse_scores = []\n",
    "\n",
    "# for fold, (train_index, test_index) in enumerate(tscv.split(X)):\n",
    "#     X_train_cv, X_test_cv = X.iloc[train_index], X.iloc[test_index]\n",
    "#     y_train_cv, y_test_cv = y.iloc[train_index], y.iloc[test_index]\n",
    "    \n",
    "#     model_cv = MultiOutputRegressor(LinearRegression())\n",
    "#     model_cv.fit(X_train_cv, y_train_cv)\n",
    "#     y_pred_cv = model_cv.predict(X_test_cv)\n",
    "    \n",
    "#     mse_cv = mean_squared_error(y_test_cv, y_pred_cv)\n",
    "#     cv_mse_scores.append(mse_cv)\n",
    "#     print(f\"Fold {fold+1} - MSE: {mse_cv:.2f}\")\n",
    "\n",
    "# print(\"\\nTime Series Cross-Validation Results:\")\n",
    "# print(\"MSE Scores for each fold:\", cv_mse_scores)\n",
    "# print(\"Average MSE across folds:\", np.mean(cv_mse_scores))"
   ]
  }
 ],
 "metadata": {
  "kernelspec": {
   "display_name": ".venv",
   "language": "python",
   "name": "python3"
  },
  "language_info": {
   "codemirror_mode": {
    "name": "ipython",
    "version": 3
   },
   "file_extension": ".py",
   "mimetype": "text/x-python",
   "name": "python",
   "nbconvert_exporter": "python",
   "pygments_lexer": "ipython3",
   "version": "3.9.6"
  }
 },
 "nbformat": 4,
 "nbformat_minor": 2
}
