{
 "cells": [
  {
   "cell_type": "code",
   "execution_count": null,
   "metadata": {},
   "outputs": [],
   "source": [
    "import pandas as pd\n",
    "df = pd.read_excel('./data/data.xlsx')\n",
    "\n",
    "df['date'] = pd.to_datetime(df['date'])\n",
    "\n",
    "# Basic info\n",
    "print(df.info())\n",
    "print(df.describe())"
   ]
  },
  {
   "cell_type": "code",
   "execution_count": null,
   "metadata": {},
   "outputs": [],
   "source": [
    "print(df.isna().sum())"
   ]
  },
  {
   "cell_type": "markdown",
   "metadata": {},
   "source": [
    "## Clean NaN values"
   ]
  },
  {
   "cell_type": "code",
   "execution_count": null,
   "metadata": {},
   "outputs": [],
   "source": [
    "# Drop rows with missing values\n",
    "df = df.dropna()\n",
    "\n",
    "print(df.isna().sum())\n",
    "print(\"Length of data after dropping missing values: \", len(df))"
   ]
  },
  {
   "cell_type": "code",
   "execution_count": null,
   "metadata": {},
   "outputs": [],
   "source": [
    "print(df.describe())"
   ]
  },
  {
   "cell_type": "code",
   "execution_count": null,
   "metadata": {},
   "outputs": [],
   "source": [
    "import matplotlib.pyplot as plt\n",
    "\n",
    "# plot precipitation + irrigation and potential evapotranspiration (mm) over time\n",
    "plt.figure(figsize=(10, 4))\n",
    "plt.plot(df['date'], df['precipitation + irrigation (mm)'], label='Precip + Irrigation')\n",
    "plt.plot(df['date'], df['potential evapotranspiration (mm)'], label='Potential Evapotranspiration')\n",
    "plt.title('Daily Water Input vs Potential Evapotranspiration')\n",
    "plt.xlabel('Date')\n",
    "plt.ylabel('mm')\n",
    "plt.legend()\n",
    "plt.show()"
   ]
  },
  {
   "cell_type": "code",
   "execution_count": null,
   "metadata": {},
   "outputs": [],
   "source": [
    "# Plot soil moisture at various depths\n",
    "plt.figure(figsize=(10, 4))\n",
    "for depth_col in ['depth 10cm', 'depth 30cm', 'depth 60cm', 'depth 90cm']:\n",
    "    plt.plot(df['date'], df[depth_col], label=depth_col)\n",
    "plt.title('Soil Moisture at Different Depths')\n",
    "plt.xlabel('Date')\n",
    "plt.ylabel('Moisture Level')\n",
    "plt.legend()\n",
    "plt.show()\n"
   ]
  },
  {
   "cell_type": "code",
   "execution_count": null,
   "metadata": {},
   "outputs": [],
   "source": [
    "# actual evapotranspiration (mm),groundwater recharge (mm)\n",
    "plt.figure(figsize=(10, 4))\n",
    "plt.plot(df['date'], df['actual evapotranspiration (mm)'], label='Actual Evapotranspiration')\n",
    "plt.plot(df['date'], df['groundwater recharge (mm)'], label='Groundwater Recharge')\n",
    "plt.title('Actual Evapotranspiration vs Groundwater Recharge')\n",
    "plt.xlabel('Date')\n",
    "plt.ylabel('mm')\n",
    "plt.legend()\n",
    "plt.show()"
   ]
  },
  {
   "cell_type": "code",
   "execution_count": null,
   "metadata": {},
   "outputs": [],
   "source": [
    "import seaborn as sns\n",
    "\n",
    "# Select numeric columns for correlation\n",
    "cols = [\n",
    "    'precipitation + irrigation (mm)',\n",
    "    'potential evapotranspiration (mm)',\n",
    "    'depth 10cm',\n",
    "    'depth 30cm',\n",
    "    'depth 60cm',\n",
    "    'depth 90cm',\n",
    "    'actual evapotranspiration (mm)',\n",
    "    'groundwater recharge (mm)'\n",
    "]\n",
    "corr = df[cols].corr()\n",
    "\n",
    "plt.figure(figsize=(8,6))\n",
    "sns.heatmap(corr, annot=True, cmap='coolwarm', fmt='.2f')\n",
    "plt.title('Correlation Matrix')\n",
    "plt.show()\n"
   ]
  },
  {
   "cell_type": "code",
   "execution_count": null,
   "metadata": {},
   "outputs": [],
   "source": [
    "# Save the cleaned data\n",
    "df.to_csv('./data/cleaned_data.csv', index=False)"
   ]
  },
  {
   "cell_type": "markdown",
   "metadata": {},
   "source": [
    "# Seasonal Analysis"
   ]
  },
  {
   "cell_type": "code",
   "execution_count": null,
   "metadata": {},
   "outputs": [],
   "source": [
    "import pandas as pd\n",
    "import numpy as np\n",
    "import matplotlib.pyplot as plt\n",
    "import seaborn as sns\n",
    "\n",
    "\n",
    "df['date'] = pd.to_datetime(df['date'], format='%Y-%m-%d', errors='coerce')\n",
    "df = df.sort_values(by='date').reset_index(drop=True)\n",
    "\n",
    "df_seasonal = df.rename(columns={\n",
    "    'precipitation + irrigation (mm)': 'precip',\n",
    "    'potential evapotranspiration (mm)': 'pet',\n",
    "    'depth 10cm': 'moisture_10cm',\n",
    "    'depth 30cm': 'moisture_30cm',\n",
    "    'depth 60cm': 'moisture_60cm',\n",
    "    'depth 90cm': 'moisture_90cm',\n",
    "    'actual evapotranspiration (mm)': 'aet',\n",
    "    'groundwater recharge (mm)': 'gw_recharge'\n",
    "})\n",
    "\n",
    "print(df_seasonal.head())\n"
   ]
  },
  {
   "cell_type": "code",
   "execution_count": null,
   "metadata": {},
   "outputs": [],
   "source": [
    "def get_season(row_date):\n",
    "    \"\"\"\n",
    "    Assigns a season based on the month (meteorological seasons).\n",
    "    - Winter: Dec (12), Jan (1), Feb (2)\n",
    "    - Spring: Mar (3), Apr (4), May (5)\n",
    "    - Summer: Jun (6), Jul (7), Aug (8)\n",
    "    - Autumn: Sep (9), Oct (10), Nov (11)\n",
    "    \"\"\"\n",
    "    month = row_date.month\n",
    "    if month in [12, 1, 2]:\n",
    "        return 'Winter'\n",
    "    elif month in [3, 4, 5]:\n",
    "        return 'Spring'\n",
    "    elif month in [6, 7, 8]:\n",
    "        return 'Summer'\n",
    "    else:\n",
    "        return 'Autumn'\n",
    "\n",
    "# Create a new column for Season\n",
    "df_seasonal['season'] = df_seasonal['date'].apply(get_season)\n",
    "\n",
    "# Group by Season and get mean or other stats\n",
    "seasonal_stats = df_seasonal.groupby('season').agg({\n",
    "    'precip': 'mean',\n",
    "    'pet': 'mean',\n",
    "    'moisture_10cm': 'mean',\n",
    "    'moisture_30cm': 'mean',\n",
    "    'moisture_60cm': 'mean',\n",
    "    'moisture_90cm': 'mean',\n",
    "    'aet': 'mean',\n",
    "    'gw_recharge': 'mean'\n",
    "}).reset_index()\n",
    "\n",
    "# sort by season order\n",
    "season_order = ['Winter', 'Spring', 'Summer', 'Autumn']\n",
    "seasonal_stats['season'] = pd.Categorical(seasonal_stats['season'], categories=season_order, ordered=True)\n",
    "seasonal_stats = seasonal_stats.sort_values('season')\n",
    "\n",
    "print(\"Seasonal Mean Values:\")\n",
    "print(seasonal_stats)"
   ]
  },
  {
   "cell_type": "code",
   "execution_count": null,
   "metadata": {},
   "outputs": [],
   "source": [
    "# visualize the seasonal stats\n",
    "plt.figure(figsize=(12, 6))\n",
    "for col in ['precip', 'pet', 'moisture_10cm', 'moisture_30cm', 'moisture_60cm', 'moisture_90cm', 'aet', 'gw_recharge']:\n",
    "    sns.lineplot(x='season', y=col, data=seasonal_stats, marker='o', label=col)\n",
    "plt.title('Seasonal Trends')\n",
    "plt.ylabel('Mean Value')\n",
    "plt.legend(title='Variables')\n",
    "plt.show()"
   ]
  },
  {
   "cell_type": "code",
   "execution_count": null,
   "metadata": {},
   "outputs": [],
   "source": [
    "for col in ['precip', 'pet', 'moisture_10cm', 'moisture_30cm', 'moisture_60cm', 'moisture_90cm', 'aet', 'gw_recharge']:\n",
    "    sns.boxplot(x='season', y=col, data=df_seasonal)\n",
    "    plt.title(f'Seasonal Distribution of {col}')\n",
    "    plt.ylabel(col)\n",
    "    plt.show()"
   ]
  },
  {
   "cell_type": "markdown",
   "metadata": {},
   "source": [
    "# Feature Engineering"
   ]
  },
  {
   "cell_type": "code",
   "execution_count": null,
   "metadata": {},
   "outputs": [],
   "source": [
    "import pandas as pd\n",
    "import numpy as np\n",
    "\n",
    "# Load data and ensure the date column is in datetime format\n",
    "df = pd.read_excel('./data/data.xlsx')\n",
    "df['date'] = pd.to_datetime(df['date'])\n",
    "\n",
    "# --- Create additional time-based features ---\n",
    "df['year'] = df['date'].dt.year\n",
    "df['month'] = df['date'].dt.month\n",
    "df['day'] = df['date'].dt.day\n",
    "df['day_of_week'] = df['date'].dt.dayofweek\n",
    "df['day_of_year'] = df['date'].dt.dayofyear\n",
    "\n",
    "# # Cyclical features for day_of_year to capture seasonality\n",
    "# df['sin_day_of_year'] = np.sin(2 * np.pi * df['day_of_year'] / 365.25)\n",
    "# df['cos_day_of_year'] = np.cos(2 * np.pi * df['day_of_year'] / 365.25)\n",
    "\n",
    "# --- Create hydrological features ---\n",
    "# Difference between precipitation+irrigation and potential evapotranspiration (water balance)\n",
    "df['precip_pet_diff'] = df['precipitation + irrigation (mm)'] - df['potential evapotranspiration (mm)']\n",
    "\n",
    "# --- Create rolling window features ---\n",
    "# 7-day rolling average and sum for precipitation and potential evapotranspiration\n",
    "df['precip_7d_avg'] = df['precipitation + irrigation (mm)'].rolling(window=7, min_periods=1).mean()\n",
    "df['pet_7d_avg'] = df['potential evapotranspiration (mm)'].rolling(window=7, min_periods=1).mean()\n",
    "\n",
    "df['precip_7d_sum'] = df['precipitation + irrigation (mm)'].rolling(window=7, min_periods=1).sum()\n",
    "df['pet_7d_sum'] = df['potential evapotranspiration (mm)'].rolling(window=7, min_periods=1).sum()\n",
    "\n",
    "# --- Define inputs and outputs ---\n",
    "input_features = [\n",
    "    'date',\n",
    "    'precipitation + irrigation (mm)',\n",
    "    'potential evapotranspiration (mm)',\n",
    "    'year',\n",
    "    'month',\n",
    "    'day',\n",
    "    'day_of_week',\n",
    "    'day_of_year',\n",
    "    # 'sin_day_of_year',\n",
    "    # 'cos_day_of_year',\n",
    "    'precip_pet_diff',\n",
    "    'precip_7d_avg',\n",
    "    'pet_7d_avg',\n",
    "    'precip_7d_sum',\n",
    "    'pet_7d_sum'\n",
    "]\n",
    "\n",
    "output_features = [\n",
    "    'depth 10cm',\n",
    "    'depth 30cm',\n",
    "    'depth 60cm',\n",
    "    'depth 90cm',\n",
    "    'actual evapotranspiration (mm)',\n",
    "    'groundwater recharge (mm)'\n",
    "]\n",
    "\n",
    "# Create a new DataFrame for modeling\n",
    "df_model = df[input_features + output_features].copy()\n",
    "\n",
    "df_model"
   ]
  },
  {
   "cell_type": "code",
   "execution_count": null,
   "metadata": {},
   "outputs": [],
   "source": [
    "# Save the enriched DataFrame to a CSV file\n",
    "df_model.to_csv('./data/model_data.csv', index=False)"
   ]
  }
 ],
 "metadata": {
  "kernelspec": {
   "display_name": ".venv",
   "language": "python",
   "name": "python3"
  },
  "language_info": {
   "codemirror_mode": {
    "name": "ipython",
    "version": 3
   },
   "file_extension": ".py",
   "mimetype": "text/x-python",
   "name": "python",
   "nbconvert_exporter": "python",
   "pygments_lexer": "ipython3",
   "version": "3.13.0"
  }
 },
 "nbformat": 4,
 "nbformat_minor": 2
}
